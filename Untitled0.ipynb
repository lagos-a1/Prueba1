{
  "nbformat": 4,
  "nbformat_minor": 0,
  "metadata": {
    "colab": {
      "name": "Untitled0.ipynb",
      "version": "0.3.2",
      "provenance": [],
      "include_colab_link": true
    },
    "kernelspec": {
      "name": "python3",
      "display_name": "Python 3"
    }
  },
  "cells": [
    {
      "cell_type": "markdown",
      "metadata": {
        "id": "view-in-github",
        "colab_type": "text"
      },
      "source": [
        "<a href=\"https://colab.research.google.com/github/lagos-a1/Prueba1/blob/master/Untitled0.ipynb\" target=\"_parent\"><img src=\"https://colab.research.google.com/assets/colab-badge.svg\" alt=\"Open In Colab\"/></a>"
      ]
    },
    {
      "cell_type": "markdown",
      "metadata": {
        "id": "J3Ad3WppQnE5",
        "colab_type": "text"
      },
      "source": [
        "# report \n",
        "\n",
        "## subtitle\n"
      ]
    },
    {
      "cell_type": "markdown",
      "metadata": {
        "id": "yDkNlHTORNMp",
        "colab_type": "text"
      },
      "source": [
        "#Title: \n",
        "Eigenfaces vs. Fisherfaces: Recognition Using Class Specific Linear Projection\n",
        "\n"
      ]
    }
  ]
}